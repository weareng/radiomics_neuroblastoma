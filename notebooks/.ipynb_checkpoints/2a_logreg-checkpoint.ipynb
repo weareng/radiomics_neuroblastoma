{
 "cells": [
  {
   "cell_type": "code",
   "execution_count": 1,
   "id": "7da2f36e-5c30-4f1f-84da-00fb8d4abed8",
   "metadata": {},
   "outputs": [],
   "source": [
    "import pandas as pd\n",
    "from sklearn.linear_model import LogisticRegression"
   ]
  },
  {
   "cell_type": "code",
   "execution_count": 2,
   "id": "2e035f00-9b62-439b-8150-aef0af0242e5",
   "metadata": {},
   "outputs": [],
   "source": [
    "df = pd.read_csv('../dataset/samples_post_extraction_and_labelled.csv')"
   ]
  },
  {
   "cell_type": "code",
   "execution_count": 23,
   "id": "63aac204-a20b-462c-b846-875f6185e5ef",
   "metadata": {},
   "outputs": [
    {
     "name": "stdout",
     "output_type": "stream",
     "text": [
      "(47, 131)\n",
      "Number of cols to drop: 24\n",
      "['diagnostics_Versions_PyRadiomics', 'diagnostics_Versions_Numpy', 'diagnostics_Versions_SimpleITK', 'diagnostics_Versions_PyWavelet', 'diagnostics_Versions_Python', 'diagnostics_Configuration_Settings', 'diagnostics_Configuration_EnabledImageTypes', 'diagnostics_Image-original_Hash', 'diagnostics_Image-original_Dimensionality', 'diagnostics_Image-original_Spacing', 'diagnostics_Image-original_Size', 'diagnostics_Image-original_Mean', 'diagnostics_Image-original_Minimum', 'diagnostics_Image-original_Maximum', 'diagnostics_Mask-original_Hash', 'diagnostics_Mask-original_Spacing', 'diagnostics_Mask-original_Size', 'diagnostics_Mask-original_BoundingBox', 'diagnostics_Mask-original_VoxelNum', 'diagnostics_Mask-original_VolumeNum', 'diagnostics_Mask-original_CenterOfMassIndex', 'diagnostics_Mask-original_CenterOfMass', 'sample_id', 'mycn_amplified']\n",
      "Number of features for model: 107\n"
     ]
    }
   ],
   "source": [
    "print(df.shape)\n",
    "cols_to_drop = [col for col in df.columns if col.startswith('diagnostics_')]\n",
    "cols_to_drop.extend(['sample_id', 'mycn_amplified'])\n",
    "print(f'Number of cols to drop: {len(cols_to_drop)}')\n",
    "print(cols_to_drop)\n",
    "\n",
    "X = df.drop(columns=cols_to_drop)\n",
    "print(f'Number of features for model: {len(X.columns)}')\n",
    "\n",
    "y = df['mycn_amplified']"
   ]
  },
  {
   "cell_type": "code",
   "execution_count": 24,
   "id": "6787a9cd-a84d-4ea6-a248-1d92acdea426",
   "metadata": {
    "scrolled": true
   },
   "outputs": [
    {
     "name": "stdout",
     "output_type": "stream",
     "text": [
      "original_shape_Elongation float64\n",
      "original_shape_Flatness float64\n",
      "original_shape_LeastAxisLength float64\n",
      "original_shape_MajorAxisLength float64\n",
      "original_shape_Maximum2DDiameterColumn float64\n",
      "original_shape_Maximum2DDiameterRow float64\n",
      "original_shape_Maximum2DDiameterSlice float64\n",
      "original_shape_Maximum3DDiameter float64\n",
      "original_shape_MeshVolume float64\n",
      "original_shape_MinorAxisLength float64\n",
      "original_shape_Sphericity float64\n",
      "original_shape_SurfaceArea float64\n",
      "original_shape_SurfaceVolumeRatio float64\n",
      "original_shape_VoxelVolume float64\n",
      "original_firstorder_10Percentile float64\n",
      "original_firstorder_90Percentile float64\n",
      "original_firstorder_Energy float64\n",
      "original_firstorder_Entropy float64\n",
      "original_firstorder_InterquartileRange float64\n",
      "original_firstorder_Kurtosis float64\n",
      "original_firstorder_Maximum float64\n",
      "original_firstorder_MeanAbsoluteDeviation float64\n",
      "original_firstorder_Mean float64\n",
      "original_firstorder_Median float64\n",
      "original_firstorder_Minimum float64\n",
      "original_firstorder_Range float64\n",
      "original_firstorder_RobustMeanAbsoluteDeviation float64\n",
      "original_firstorder_RootMeanSquared float64\n",
      "original_firstorder_Skewness float64\n",
      "original_firstorder_TotalEnergy float64\n",
      "original_firstorder_Uniformity float64\n",
      "original_firstorder_Variance float64\n",
      "original_glcm_Autocorrelation float64\n",
      "original_glcm_ClusterProminence float64\n",
      "original_glcm_ClusterShade float64\n",
      "original_glcm_ClusterTendency float64\n",
      "original_glcm_Contrast float64\n",
      "original_glcm_Correlation float64\n",
      "original_glcm_DifferenceAverage float64\n",
      "original_glcm_DifferenceEntropy float64\n",
      "original_glcm_DifferenceVariance float64\n",
      "original_glcm_Id float64\n",
      "original_glcm_Idm float64\n",
      "original_glcm_Idmn float64\n",
      "original_glcm_Idn float64\n",
      "original_glcm_Imc1 float64\n",
      "original_glcm_Imc2 float64\n",
      "original_glcm_InverseVariance float64\n",
      "original_glcm_JointAverage float64\n",
      "original_glcm_JointEnergy float64\n",
      "original_glcm_JointEntropy float64\n",
      "original_glcm_MCC float64\n",
      "original_glcm_MaximumProbability float64\n",
      "original_glcm_SumAverage float64\n",
      "original_glcm_SumEntropy float64\n",
      "original_glcm_SumSquares float64\n",
      "original_gldm_DependenceEntropy float64\n",
      "original_gldm_DependenceNonUniformity float64\n",
      "original_gldm_DependenceNonUniformityNormalized float64\n",
      "original_gldm_DependenceVariance float64\n",
      "original_gldm_GrayLevelNonUniformity float64\n",
      "original_gldm_GrayLevelVariance float64\n",
      "original_gldm_HighGrayLevelEmphasis float64\n",
      "original_gldm_LargeDependenceEmphasis float64\n",
      "original_gldm_LargeDependenceHighGrayLevelEmphasis float64\n",
      "original_gldm_LargeDependenceLowGrayLevelEmphasis float64\n",
      "original_gldm_LowGrayLevelEmphasis float64\n",
      "original_gldm_SmallDependenceEmphasis float64\n",
      "original_gldm_SmallDependenceHighGrayLevelEmphasis float64\n",
      "original_gldm_SmallDependenceLowGrayLevelEmphasis float64\n",
      "original_glrlm_GrayLevelNonUniformity float64\n",
      "original_glrlm_GrayLevelNonUniformityNormalized float64\n",
      "original_glrlm_GrayLevelVariance float64\n",
      "original_glrlm_HighGrayLevelRunEmphasis float64\n",
      "original_glrlm_LongRunEmphasis float64\n",
      "original_glrlm_LongRunHighGrayLevelEmphasis float64\n",
      "original_glrlm_LongRunLowGrayLevelEmphasis float64\n",
      "original_glrlm_LowGrayLevelRunEmphasis float64\n",
      "original_glrlm_RunEntropy float64\n",
      "original_glrlm_RunLengthNonUniformity float64\n",
      "original_glrlm_RunLengthNonUniformityNormalized float64\n",
      "original_glrlm_RunPercentage float64\n",
      "original_glrlm_RunVariance float64\n",
      "original_glrlm_ShortRunEmphasis float64\n",
      "original_glrlm_ShortRunHighGrayLevelEmphasis float64\n",
      "original_glrlm_ShortRunLowGrayLevelEmphasis float64\n",
      "original_glszm_GrayLevelNonUniformity float64\n",
      "original_glszm_GrayLevelNonUniformityNormalized float64\n",
      "original_glszm_GrayLevelVariance float64\n",
      "original_glszm_HighGrayLevelZoneEmphasis float64\n",
      "original_glszm_LargeAreaEmphasis float64\n",
      "original_glszm_LargeAreaHighGrayLevelEmphasis float64\n",
      "original_glszm_LargeAreaLowGrayLevelEmphasis float64\n",
      "original_glszm_LowGrayLevelZoneEmphasis float64\n",
      "original_glszm_SizeZoneNonUniformity float64\n",
      "original_glszm_SizeZoneNonUniformityNormalized float64\n",
      "original_glszm_SmallAreaEmphasis float64\n",
      "original_glszm_SmallAreaHighGrayLevelEmphasis float64\n",
      "original_glszm_SmallAreaLowGrayLevelEmphasis float64\n",
      "original_glszm_ZoneEntropy float64\n",
      "original_glszm_ZonePercentage float64\n",
      "original_glszm_ZoneVariance float64\n",
      "original_ngtdm_Busyness float64\n",
      "original_ngtdm_Coarseness float64\n",
      "original_ngtdm_Complexity float64\n",
      "original_ngtdm_Contrast float64\n",
      "original_ngtdm_Strength float64\n"
     ]
    }
   ],
   "source": [
    "for col in X.columns:\n",
    "    print(col, X[col].dtype)"
   ]
  },
  {
   "cell_type": "code",
   "execution_count": 25,
   "id": "c2aae4b1-2f9c-4eef-8395-ef366da6ea4e",
   "metadata": {},
   "outputs": [],
   "source": [
    "from sklearn.model_selection import train_test_split\n",
    "from sklearn.preprocessing import StandardScaler\n",
    "\n",
    "X_train, X_val, y_train, y_val = train_test_split(X, y, test_size=0.2, random_state=42)\n",
    "\n",
    "scaler = StandardScaler()\n",
    "X_train = scaler.fit_transform(X_train)\n",
    "X_val = scaler.transform(X_val)"
   ]
  },
  {
   "cell_type": "code",
   "execution_count": 26,
   "id": "8df65828-04e6-4fd5-8dd1-cec5078c33df",
   "metadata": {},
   "outputs": [
    {
     "name": "stdout",
     "output_type": "stream",
     "text": [
      "(37, 107)\n",
      "(10, 107)\n",
      "(37,)\n",
      "(10,)\n"
     ]
    }
   ],
   "source": [
    "print(X_train.shape)\n",
    "print(X_val.shape)\n",
    "print(y_train.shape)\n",
    "print(y_val.shape)"
   ]
  },
  {
   "cell_type": "code",
   "execution_count": 29,
   "id": "a977a978-4363-4126-bf3c-fee166f77f41",
   "metadata": {},
   "outputs": [
    {
     "name": "stdout",
     "output_type": "stream",
     "text": [
      "Logistic Regression Accuracy: 0.8\n",
      "Logistic Regression Classification Report:\n",
      "               precision    recall  f1-score   support\n",
      "\n",
      "           0       0.78      1.00      0.88         7\n",
      "           1       1.00      0.33      0.50         3\n",
      "\n",
      "    accuracy                           0.80        10\n",
      "   macro avg       0.89      0.67      0.69        10\n",
      "weighted avg       0.84      0.80      0.76        10\n",
      "\n"
     ]
    }
   ],
   "source": [
    "lr = LogisticRegression(max_iter=1000, random_state=42)\n",
    "lr.fit(X_train, y_train)\n",
    "lr_predictions = lr.predict(X_val)\n",
    "\n",
    "from sklearn.metrics import accuracy_score, classification_report\n",
    "\n",
    "lr_accuracy = accuracy_score(y_val, lr_predictions)\n",
    "lr_report = classification_report(y_val, lr_predictions)\n",
    "\n",
    "print(\"Logistic Regression Accuracy:\", lr_accuracy)\n",
    "print(\"Logistic Regression Classification Report:\\n\", lr_report)"
   ]
  },
  {
   "cell_type": "markdown",
   "id": "583a755d-2409-475d-9ba8-98ffeec2ad7a",
   "metadata": {},
   "source": [
    "# Prompt for radiomics\n",
    "\n",
    "You are a data scientist in healthcare. In the context of radiomics, I have a dataset directory that contains subdirectories that has both the plain CT 2d image and an annotated CT 2d image. I also have an .ods file that records the various CT 2d images with a column that shows if a particular gene is being expressed. Using pyradiomics library, write a code and explain how to perform feature extraction and at least 3 methods of machine learning classifiers, followed by explaining and comparing the results of each machine learning method. \n"
   ]
  }
 ],
 "metadata": {
  "kernelspec": {
   "display_name": "Python 3 (ipykernel)",
   "language": "python",
   "name": "python3"
  },
  "language_info": {
   "codemirror_mode": {
    "name": "ipython",
    "version": 3
   },
   "file_extension": ".py",
   "mimetype": "text/x-python",
   "name": "python",
   "nbconvert_exporter": "python",
   "pygments_lexer": "ipython3",
   "version": "3.9.19"
  }
 },
 "nbformat": 4,
 "nbformat_minor": 5
}
