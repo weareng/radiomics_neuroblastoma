{
 "cells": [
  {
   "cell_type": "code",
   "execution_count": 1,
   "id": "edcaabb0-1468-4cee-892a-a562705bb65b",
   "metadata": {},
   "outputs": [],
   "source": [
    "import os\n",
    "import pandas as pd"
   ]
  },
  {
   "cell_type": "code",
   "execution_count": 2,
   "id": "9c31f766-18da-4d62-a8ce-07cedb8890b1",
   "metadata": {},
   "outputs": [
    {
     "data": {
      "text/html": [
       "<div>\n",
       "<style scoped>\n",
       "    .dataframe tbody tr th:only-of-type {\n",
       "        vertical-align: middle;\n",
       "    }\n",
       "\n",
       "    .dataframe tbody tr th {\n",
       "        vertical-align: top;\n",
       "    }\n",
       "\n",
       "    .dataframe thead th {\n",
       "        text-align: right;\n",
       "    }\n",
       "</style>\n",
       "<table border=\"1\" class=\"dataframe\">\n",
       "  <thead>\n",
       "    <tr style=\"text-align: right;\">\n",
       "      <th></th>\n",
       "      <th>Unnamed: 0</th>\n",
       "      <th>MYCN_amplified</th>\n",
       "    </tr>\n",
       "  </thead>\n",
       "  <tbody>\n",
       "    <tr>\n",
       "      <th>0</th>\n",
       "      <td>32 itksnap_2 CEFC132D-Q01</td>\n",
       "      <td>No</td>\n",
       "    </tr>\n",
       "    <tr>\n",
       "      <th>1</th>\n",
       "      <td>36 itksnap_2 CEFC132D-Q01</td>\n",
       "      <td>Yes</td>\n",
       "    </tr>\n",
       "    <tr>\n",
       "      <th>2</th>\n",
       "      <td>10 itksnap_10 CEFC132D-Q01</td>\n",
       "      <td>No</td>\n",
       "    </tr>\n",
       "    <tr>\n",
       "      <th>3</th>\n",
       "      <td>52 itksnap_2 CEFC13ORG</td>\n",
       "      <td>No</td>\n",
       "    </tr>\n",
       "    <tr>\n",
       "      <th>4</th>\n",
       "      <td>48 itksnap_2 ANON48</td>\n",
       "      <td>Yes</td>\n",
       "    </tr>\n",
       "  </tbody>\n",
       "</table>\n",
       "</div>"
      ],
      "text/plain": [
       "                   Unnamed: 0 MYCN_amplified\n",
       "0   32 itksnap_2 CEFC132D-Q01             No\n",
       "1   36 itksnap_2 CEFC132D-Q01            Yes\n",
       "2  10 itksnap_10 CEFC132D-Q01             No\n",
       "3      52 itksnap_2 CEFC13ORG             No\n",
       "4         48 itksnap_2 ANON48            Yes"
      ]
     },
     "execution_count": 2,
     "metadata": {},
     "output_type": "execute_result"
    }
   ],
   "source": [
    "data_directory = '../dataset/MYCN_Student_ROI_dataset'\n",
    "ods_file_path = '../dataset/neuroblast_GT.ods'\n",
    "\n",
    "ground_truth = pd.read_excel(ods_file_path)\n",
    "ground_truth.head()"
   ]
  },
  {
   "cell_type": "code",
   "execution_count": 3,
   "id": "94fdbbcf-a8a6-4bf1-bb56-7bf4eed643b8",
   "metadata": {},
   "outputs": [
    {
     "name": "stdout",
     "output_type": "stream",
     "text": [
      "Column Unnamed: 0 has no missing labels\n",
      "Column MYCN_amplified has no missing labels\n"
     ]
    },
    {
     "data": {
      "text/html": [
       "<div>\n",
       "<style scoped>\n",
       "    .dataframe tbody tr th:only-of-type {\n",
       "        vertical-align: middle;\n",
       "    }\n",
       "\n",
       "    .dataframe tbody tr th {\n",
       "        vertical-align: top;\n",
       "    }\n",
       "\n",
       "    .dataframe thead th {\n",
       "        text-align: right;\n",
       "    }\n",
       "</style>\n",
       "<table border=\"1\" class=\"dataframe\">\n",
       "  <thead>\n",
       "    <tr style=\"text-align: right;\">\n",
       "      <th></th>\n",
       "      <th>sample_id</th>\n",
       "      <th>MYCN_amplified</th>\n",
       "    </tr>\n",
       "  </thead>\n",
       "  <tbody>\n",
       "    <tr>\n",
       "      <th>0</th>\n",
       "      <td>32 itksnap_2 CEFC132D-Q01</td>\n",
       "      <td>0</td>\n",
       "    </tr>\n",
       "    <tr>\n",
       "      <th>1</th>\n",
       "      <td>36 itksnap_2 CEFC132D-Q01</td>\n",
       "      <td>1</td>\n",
       "    </tr>\n",
       "    <tr>\n",
       "      <th>2</th>\n",
       "      <td>10 itksnap_10 CEFC132D-Q01</td>\n",
       "      <td>0</td>\n",
       "    </tr>\n",
       "    <tr>\n",
       "      <th>3</th>\n",
       "      <td>52 itksnap_2 CEFC13ORG</td>\n",
       "      <td>0</td>\n",
       "    </tr>\n",
       "    <tr>\n",
       "      <th>4</th>\n",
       "      <td>48 itksnap_2 ANON48</td>\n",
       "      <td>1</td>\n",
       "    </tr>\n",
       "  </tbody>\n",
       "</table>\n",
       "</div>"
      ],
      "text/plain": [
       "                    sample_id  MYCN_amplified\n",
       "0   32 itksnap_2 CEFC132D-Q01               0\n",
       "1   36 itksnap_2 CEFC132D-Q01               1\n",
       "2  10 itksnap_10 CEFC132D-Q01               0\n",
       "3      52 itksnap_2 CEFC13ORG               0\n",
       "4         48 itksnap_2 ANON48               1"
      ]
     },
     "execution_count": 3,
     "metadata": {},
     "output_type": "execute_result"
    }
   ],
   "source": [
    "for column in ground_truth.columns:\n",
    "    if not ground_truth[column].isna().any():\n",
    "        print(f'Column {column} has no missing labels')\n",
    "ground_truth = ground_truth.rename({'Unnamed: 0': 'sample_id'}, axis=1)\n",
    "ground_truth['MYCN_amplified'] = ground_truth['MYCN_amplified'].map({'No': 0, 'Yes': 1})\n",
    "ground_truth.head()"
   ]
  },
  {
   "cell_type": "code",
   "execution_count": 4,
   "id": "d3daae71-3492-4a9a-9930-7bfdc9f05157",
   "metadata": {},
   "outputs": [],
   "source": [
    "dataset_samples = set()\n",
    "\n",
    "for sample_folder in os.listdir(data_directory):\n",
    "    sample_path = os.path.join(data_directory, sample_folder)\n",
    "    for files in os.listdir(sample_path):\n",
    "        file_path = os.path.join(sample_path, files)\n",
    "        \n",
    "        dataset_samples.add(file_path)"
   ]
  },
  {
   "cell_type": "code",
   "execution_count": 10,
   "id": "86f060a2-0357-41b6-a3b3-d63b5493a4ab",
   "metadata": {},
   "outputs": [],
   "source": [
    "all_samples = set()\n",
    "all_samples_ids = set()\n",
    "\n",
    "for sample_folder in os.listdir(data_directory):\n",
    "    sample_path = os.path.join(data_directory, sample_folder)\n",
    "\n",
    "    image_path = os.path.join(sample_path, sample_folder + '_roi_image.nii.gz')\n",
    "    mask_path = os.path.join(sample_path, sample_folder + '_roi_image_gt.nii.gz')\n",
    "\n",
    "    all_samples_ids.add(str(sample_folder))\n",
    "    all_samples.add(image_path)\n",
    "    all_samples.add(mask_path)"
   ]
  },
  {
   "cell_type": "code",
   "execution_count": 6,
   "id": "c53fd062-35f0-4ad6-998d-c1d87e8dda14",
   "metadata": {},
   "outputs": [
    {
     "name": "stdout",
     "output_type": "stream",
     "text": [
      "Path to all existing image files in dataset has been captured.\n",
      "110 110\n"
     ]
    }
   ],
   "source": [
    "if dataset_samples == all_samples:\n",
    "    print('Path to all existing image files in dataset has been captured.')\n",
    "print(len(dataset_samples), len(all_samples))"
   ]
  },
  {
   "cell_type": "code",
   "execution_count": 7,
   "id": "235dc340-8180-4ec1-b6c9-b6e1b5ddb07a",
   "metadata": {},
   "outputs": [
    {
     "name": "stdout",
     "output_type": "stream",
     "text": [
      "Number of sample_id rows in ods: 47\n",
      "Number of unique sample_id rows in ods: 47\n"
     ]
    }
   ],
   "source": [
    "print(f'Number of sample_id rows in ods: {len(ground_truth[\"sample_id\"])}')\n",
    "print(f'Number of unique sample_id rows in ods: {ground_truth[\"sample_id\"].nunique()}')\n",
    "ground_truth_ids = set(ground_truth[\"sample_id\"])"
   ]
  },
  {
   "cell_type": "code",
   "execution_count": 17,
   "id": "5b0a295a-6826-4803-bc79-811eeec093e7",
   "metadata": {},
   "outputs": [
    {
     "name": "stdout",
     "output_type": "stream",
     "text": [
      "Presence of missing ids data\n",
      "In files but not in ods\n",
      "56 itksnap_3 Pediatric 5.0  CE\n",
      "55 itksnap_2 CEFC132D-Q01\n",
      "62 itksnap_2 Fl_Thorax_C  3.0  Br40  2\n",
      "61 itksnap_2 CEFC13ORG\n",
      "57 itksnap_2 CEFC132D-Q01\n",
      "58 itksnap_4 POSTCON Pediatric 2.000\n",
      "59 itksnap_2 Body 5.0 IVC CE\n",
      "60 itksnap_7 Pediatric 3.0 Axial.38 CE\n",
      "\n",
      "In ods but not in files\n"
     ]
    }
   ],
   "source": [
    "if ground_truth_ids == all_samples_ids:\n",
    "    print('ids in file images are the same as ids in ground_truth')\n",
    "else: \n",
    "    print('Presence of missing ids data')\n",
    "    in_files_but_not_in_ods = all_samples_ids.difference(ground_truth_ids)\n",
    "    in_ods_but_not_in_files = ground_truth_ids.difference(all_samples_ids)\n",
    "\n",
    "    print('In files but not in ods')\n",
    "    for id in in_files_but_not_in_ods: \n",
    "        print(id)\n",
    "\n",
    "    print('\\nIn ods but not in files')\n",
    "    for id in in_ods_but_not_in_files:\n",
    "        print(id)"
   ]
  },
  {
   "cell_type": "code",
   "execution_count": 26,
   "id": "7b5d277d-a26f-49fd-b245-2e586cbc7c83",
   "metadata": {},
   "outputs": [],
   "source": [
    "# Add the missing ids into ods file. \n",
    "# ods file will have all ids. \n",
    "# For ids without MYCN_amplified labels, it will be valued as -1.\n",
    "\n",
    "new_rows = pd.DataFrame({\n",
    "        'sample_id': list(in_files_but_not_in_ods),\n",
    "        'MYCN_amplified': -1\n",
    "    })\n",
    "\n",
    "ground_truth = pd.concat([ground_truth, new_rows], ignore_index=True)"
   ]
  },
  {
   "cell_type": "code",
   "execution_count": 29,
   "id": "a480127a-a419-4c20-b67e-97e613a9ca08",
   "metadata": {},
   "outputs": [
    {
     "data": {
      "text/html": [
       "<div>\n",
       "<style scoped>\n",
       "    .dataframe tbody tr th:only-of-type {\n",
       "        vertical-align: middle;\n",
       "    }\n",
       "\n",
       "    .dataframe tbody tr th {\n",
       "        vertical-align: top;\n",
       "    }\n",
       "\n",
       "    .dataframe thead th {\n",
       "        text-align: right;\n",
       "    }\n",
       "</style>\n",
       "<table border=\"1\" class=\"dataframe\">\n",
       "  <thead>\n",
       "    <tr style=\"text-align: right;\">\n",
       "      <th></th>\n",
       "      <th>sample_id</th>\n",
       "      <th>MYCN_amplified</th>\n",
       "    </tr>\n",
       "  </thead>\n",
       "  <tbody>\n",
       "    <tr>\n",
       "      <th>47</th>\n",
       "      <td>56 itksnap_3 Pediatric 5.0  CE</td>\n",
       "      <td>-1</td>\n",
       "    </tr>\n",
       "    <tr>\n",
       "      <th>48</th>\n",
       "      <td>55 itksnap_2 CEFC132D-Q01</td>\n",
       "      <td>-1</td>\n",
       "    </tr>\n",
       "    <tr>\n",
       "      <th>49</th>\n",
       "      <td>62 itksnap_2 Fl_Thorax_C  3.0  Br40  2</td>\n",
       "      <td>-1</td>\n",
       "    </tr>\n",
       "    <tr>\n",
       "      <th>50</th>\n",
       "      <td>61 itksnap_2 CEFC13ORG</td>\n",
       "      <td>-1</td>\n",
       "    </tr>\n",
       "    <tr>\n",
       "      <th>51</th>\n",
       "      <td>57 itksnap_2 CEFC132D-Q01</td>\n",
       "      <td>-1</td>\n",
       "    </tr>\n",
       "    <tr>\n",
       "      <th>52</th>\n",
       "      <td>58 itksnap_4 POSTCON Pediatric 2.000</td>\n",
       "      <td>-1</td>\n",
       "    </tr>\n",
       "    <tr>\n",
       "      <th>53</th>\n",
       "      <td>59 itksnap_2 Body 5.0 IVC CE</td>\n",
       "      <td>-1</td>\n",
       "    </tr>\n",
       "    <tr>\n",
       "      <th>54</th>\n",
       "      <td>60 itksnap_7 Pediatric 3.0 Axial.38 CE</td>\n",
       "      <td>-1</td>\n",
       "    </tr>\n",
       "  </tbody>\n",
       "</table>\n",
       "</div>"
      ],
      "text/plain": [
       "                                 sample_id  MYCN_amplified\n",
       "47          56 itksnap_3 Pediatric 5.0  CE              -1\n",
       "48               55 itksnap_2 CEFC132D-Q01              -1\n",
       "49  62 itksnap_2 Fl_Thorax_C  3.0  Br40  2              -1\n",
       "50                  61 itksnap_2 CEFC13ORG              -1\n",
       "51               57 itksnap_2 CEFC132D-Q01              -1\n",
       "52    58 itksnap_4 POSTCON Pediatric 2.000              -1\n",
       "53            59 itksnap_2 Body 5.0 IVC CE              -1\n",
       "54  60 itksnap_7 Pediatric 3.0 Axial.38 CE              -1"
      ]
     },
     "execution_count": 29,
     "metadata": {},
     "output_type": "execute_result"
    }
   ],
   "source": [
    "ground_truth.loc[ground_truth['MYCN_amplified']==-1]"
   ]
  },
  {
   "cell_type": "code",
   "execution_count": 32,
   "id": "960ecd9d-9c58-4549-8d1e-cad0c078e20f",
   "metadata": {},
   "outputs": [],
   "source": [
    "ground_truth.to_csv('../dataset/neuroblast_GT_preprocessed.csv', index=False)    "
   ]
  }
 ],
 "metadata": {
  "kernelspec": {
   "display_name": "Python 3 (ipykernel)",
   "language": "python",
   "name": "python3"
  },
  "language_info": {
   "codemirror_mode": {
    "name": "ipython",
    "version": 3
   },
   "file_extension": ".py",
   "mimetype": "text/x-python",
   "name": "python",
   "nbconvert_exporter": "python",
   "pygments_lexer": "ipython3",
   "version": "3.9.19"
  }
 },
 "nbformat": 4,
 "nbformat_minor": 5
}
