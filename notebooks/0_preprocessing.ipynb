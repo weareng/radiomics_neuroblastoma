{
 "cells": [
  {
   "cell_type": "code",
   "execution_count": 62,
   "id": "edcaabb0-1468-4cee-892a-a562705bb65b",
   "metadata": {},
   "outputs": [],
   "source": [
    "import os\n",
    "import pandas as pd"
   ]
  },
  {
   "cell_type": "code",
   "execution_count": 63,
   "id": "9c31f766-18da-4d62-a8ce-07cedb8890b1",
   "metadata": {},
   "outputs": [
    {
     "data": {
      "text/html": [
       "<div>\n",
       "<style scoped>\n",
       "    .dataframe tbody tr th:only-of-type {\n",
       "        vertical-align: middle;\n",
       "    }\n",
       "\n",
       "    .dataframe tbody tr th {\n",
       "        vertical-align: top;\n",
       "    }\n",
       "\n",
       "    .dataframe thead th {\n",
       "        text-align: right;\n",
       "    }\n",
       "</style>\n",
       "<table border=\"1\" class=\"dataframe\">\n",
       "  <thead>\n",
       "    <tr style=\"text-align: right;\">\n",
       "      <th></th>\n",
       "      <th>Unnamed: 0</th>\n",
       "      <th>MYCN_amplified</th>\n",
       "    </tr>\n",
       "  </thead>\n",
       "  <tbody>\n",
       "    <tr>\n",
       "      <th>0</th>\n",
       "      <td>32 itksnap_2 CEFC132D-Q01</td>\n",
       "      <td>No</td>\n",
       "    </tr>\n",
       "    <tr>\n",
       "      <th>1</th>\n",
       "      <td>36 itksnap_2 CEFC132D-Q01</td>\n",
       "      <td>Yes</td>\n",
       "    </tr>\n",
       "    <tr>\n",
       "      <th>2</th>\n",
       "      <td>10 itksnap_10 CEFC132D-Q01</td>\n",
       "      <td>No</td>\n",
       "    </tr>\n",
       "    <tr>\n",
       "      <th>3</th>\n",
       "      <td>52 itksnap_2 CEFC13ORG</td>\n",
       "      <td>No</td>\n",
       "    </tr>\n",
       "    <tr>\n",
       "      <th>4</th>\n",
       "      <td>48 itksnap_2 ANON48</td>\n",
       "      <td>Yes</td>\n",
       "    </tr>\n",
       "  </tbody>\n",
       "</table>\n",
       "</div>"
      ],
      "text/plain": [
       "                   Unnamed: 0 MYCN_amplified\n",
       "0   32 itksnap_2 CEFC132D-Q01             No\n",
       "1   36 itksnap_2 CEFC132D-Q01            Yes\n",
       "2  10 itksnap_10 CEFC132D-Q01             No\n",
       "3      52 itksnap_2 CEFC13ORG             No\n",
       "4         48 itksnap_2 ANON48            Yes"
      ]
     },
     "metadata": {},
     "output_type": "display_data"
    },
    {
     "data": {
      "text/html": [
       "<div>\n",
       "<style scoped>\n",
       "    .dataframe tbody tr th:only-of-type {\n",
       "        vertical-align: middle;\n",
       "    }\n",
       "\n",
       "    .dataframe tbody tr th {\n",
       "        vertical-align: top;\n",
       "    }\n",
       "\n",
       "    .dataframe thead th {\n",
       "        text-align: right;\n",
       "    }\n",
       "</style>\n",
       "<table border=\"1\" class=\"dataframe\">\n",
       "  <thead>\n",
       "    <tr style=\"text-align: right;\">\n",
       "      <th></th>\n",
       "      <th>sample_id</th>\n",
       "      <th>MYCN_amplified</th>\n",
       "    </tr>\n",
       "  </thead>\n",
       "  <tbody>\n",
       "    <tr>\n",
       "      <th>0</th>\n",
       "      <td>32 itksnap_2 CEFC132D-Q01</td>\n",
       "      <td>0</td>\n",
       "    </tr>\n",
       "    <tr>\n",
       "      <th>1</th>\n",
       "      <td>36 itksnap_2 CEFC132D-Q01</td>\n",
       "      <td>1</td>\n",
       "    </tr>\n",
       "    <tr>\n",
       "      <th>2</th>\n",
       "      <td>10 itksnap_10 CEFC132D-Q01</td>\n",
       "      <td>0</td>\n",
       "    </tr>\n",
       "    <tr>\n",
       "      <th>3</th>\n",
       "      <td>52 itksnap_2 CEFC13ORG</td>\n",
       "      <td>0</td>\n",
       "    </tr>\n",
       "    <tr>\n",
       "      <th>4</th>\n",
       "      <td>48 itksnap_2 ANON48</td>\n",
       "      <td>1</td>\n",
       "    </tr>\n",
       "  </tbody>\n",
       "</table>\n",
       "</div>"
      ],
      "text/plain": [
       "                    sample_id  MYCN_amplified\n",
       "0   32 itksnap_2 CEFC132D-Q01               0\n",
       "1   36 itksnap_2 CEFC132D-Q01               1\n",
       "2  10 itksnap_10 CEFC132D-Q01               0\n",
       "3      52 itksnap_2 CEFC13ORG               0\n",
       "4         48 itksnap_2 ANON48               1"
      ]
     },
     "metadata": {},
     "output_type": "display_data"
    }
   ],
   "source": [
    "data_directory = '../dataset/MYCN_Student_ROI_dataset'\n",
    "ods_file_path = '../dataset/neuroblast_GT.ods'\n",
    "\n",
    "ground_truth = pd.read_excel(ods_file_path)\n",
    "\n",
    "display(ground_truth.head())\n",
    "\n",
    "# Rename table column headers\n",
    "ground_truth = ground_truth.rename({'Unnamed: 0': 'sample_id'}, axis=1)\n",
    "ground_truth['MYCN_amplified'] = ground_truth['MYCN_amplified'].map({'No': 0, 'Yes': 1})\n",
    "display(ground_truth.head())"
   ]
  },
  {
   "cell_type": "code",
   "execution_count": 64,
   "id": "94fdbbcf-a8a6-4bf1-bb56-7bf4eed643b8",
   "metadata": {},
   "outputs": [
    {
     "name": "stdout",
     "output_type": "stream",
     "text": [
      "Column sample_id has no missing labels\n",
      "Column MYCN_amplified has no missing labels\n",
      "Total number of sample ids with ground truth labelled: 47\n"
     ]
    }
   ],
   "source": [
    "# Checking for missing data\n",
    "for column in ground_truth.columns:\n",
    "    assert ground_truth[column].isna().any() == 0\n",
    "    print(f'Column {column} has no missing labels')\n",
    "\n",
    "# Ensure that all sample ids are unique\n",
    "num_rows = len(ground_truth['sample_id'])\n",
    "num_unique_rows = ground_truth[\"sample_id\"].nunique()\n",
    "assert num_rows == num_unique_rows\n",
    "print(f'Total number of sample ids with ground truth labelled: {num_rows}')"
   ]
  },
  {
   "cell_type": "code",
   "execution_count": 65,
   "id": "d3daae71-3492-4a9a-9930-7bfdc9f05157",
   "metadata": {},
   "outputs": [
    {
     "name": "stdout",
     "output_type": "stream",
     "text": [
      "Total number of unique ids: 55\n",
      "Total number of samples: 110\n"
     ]
    }
   ],
   "source": [
    "# Creates a set containing the paths for all samples\n",
    "\n",
    "all_samples = set()\n",
    "all_samples_ids = set()\n",
    "\n",
    "for sample_folder in os.listdir(data_directory):\n",
    "    sample_path = os.path.join(data_directory, sample_folder)\n",
    "    all_samples_ids.add(str(sample_folder))\n",
    "    for files in os.listdir(sample_path):\n",
    "        file_path = os.path.join(sample_path, files)\n",
    "        all_samples.add(file_path)\n",
    "\n",
    "assert '../dataset/MYCN_Student_ROI_dataset/32 itksnap_2 CEFC132D-Q01/32 itksnap_2 CEFC132D-Q01_roi_image.nii.gz' in all_samples\n",
    "assert '../dataset/MYCN_Student_ROI_dataset/32 itksnap_2 CEFC132D-Q01/32 itksnap_2 CEFC132D-Q01_roi_image_gt.nii.gz'in all_samples\n",
    "assert '32 itksnap_2 CEFC132D-Q01' in all_samples_ids\n",
    "assert len(all_samples_ids) == len(all_samples)/2\n",
    "\n",
    "print(f'Total number of unique ids: {len(all_samples_ids)}')\n",
    "\n",
    "print(f'Total number of samples: {len(all_samples)}')"
   ]
  },
  {
   "cell_type": "code",
   "execution_count": 66,
   "id": "535a9429-6ded-4a83-b5e7-bcce68607f69",
   "metadata": {},
   "outputs": [
    {
     "name": "stdout",
     "output_type": "stream",
     "text": [
      "Following ids are found in files but not in ods:\n",
      "55 itksnap_2 CEFC132D-Q01\n",
      "60 itksnap_7 Pediatric 3.0 Axial.38 CE\n",
      "62 itksnap_2 Fl_Thorax_C  3.0  Br40  2\n",
      "56 itksnap_3 Pediatric 5.0  CE\n",
      "58 itksnap_4 POSTCON Pediatric 2.000\n",
      "57 itksnap_2 CEFC132D-Q01\n",
      "61 itksnap_2 CEFC13ORG\n",
      "59 itksnap_2 Body 5.0 IVC CE\n",
      "All ids in ods are found in files\n"
     ]
    }
   ],
   "source": [
    "# Check if all sample ids have labelled ground truth\n",
    "\n",
    "ground_truth_ids = set(ground_truth[\"sample_id\"])\n",
    "\n",
    "if ground_truth_ids == all_samples_ids:\n",
    "    print('ids in file images are the same as ids in ground_truth')\n",
    "else: \n",
    "    in_files_but_not_in_ods = all_samples_ids.difference(ground_truth_ids)\n",
    "    in_ods_but_not_in_files = ground_truth_ids.difference(all_samples_ids)\n",
    "\n",
    "    if len(in_files_but_not_in_ods) == 0:\n",
    "        print('All ids in files are found in ods')\n",
    "    else:\n",
    "        print('Following ids are found in files but not in ods:')\n",
    "        for id in in_files_but_not_in_ods:\n",
    "            print(id)        \n",
    "    if len(in_ods_but_not_in_files) == 0:\n",
    "        print('All ids in ods are found in files')\n",
    "    else:\n",
    "        print('Following ids are found in ods but not in files:')\n",
    "        for id in in_ods_but_not_in_files:\n",
    "            print(id)"
   ]
  },
  {
   "cell_type": "code",
   "execution_count": 67,
   "id": "7b5d277d-a26f-49fd-b245-2e586cbc7c83",
   "metadata": {},
   "outputs": [
    {
     "data": {
      "text/html": [
       "<div>\n",
       "<style scoped>\n",
       "    .dataframe tbody tr th:only-of-type {\n",
       "        vertical-align: middle;\n",
       "    }\n",
       "\n",
       "    .dataframe tbody tr th {\n",
       "        vertical-align: top;\n",
       "    }\n",
       "\n",
       "    .dataframe thead th {\n",
       "        text-align: right;\n",
       "    }\n",
       "</style>\n",
       "<table border=\"1\" class=\"dataframe\">\n",
       "  <thead>\n",
       "    <tr style=\"text-align: right;\">\n",
       "      <th></th>\n",
       "      <th>sample_id</th>\n",
       "      <th>MYCN_amplified</th>\n",
       "    </tr>\n",
       "  </thead>\n",
       "  <tbody>\n",
       "    <tr>\n",
       "      <th>0</th>\n",
       "      <td>32 itksnap_2 CEFC132D-Q01</td>\n",
       "      <td>0</td>\n",
       "    </tr>\n",
       "    <tr>\n",
       "      <th>1</th>\n",
       "      <td>36 itksnap_2 CEFC132D-Q01</td>\n",
       "      <td>1</td>\n",
       "    </tr>\n",
       "    <tr>\n",
       "      <th>2</th>\n",
       "      <td>10 itksnap_10 CEFC132D-Q01</td>\n",
       "      <td>0</td>\n",
       "    </tr>\n",
       "    <tr>\n",
       "      <th>3</th>\n",
       "      <td>52 itksnap_2 CEFC13ORG</td>\n",
       "      <td>0</td>\n",
       "    </tr>\n",
       "    <tr>\n",
       "      <th>4</th>\n",
       "      <td>48 itksnap_2 ANON48</td>\n",
       "      <td>1</td>\n",
       "    </tr>\n",
       "  </tbody>\n",
       "</table>\n",
       "</div>"
      ],
      "text/plain": [
       "                    sample_id  MYCN_amplified\n",
       "0   32 itksnap_2 CEFC132D-Q01               0\n",
       "1   36 itksnap_2 CEFC132D-Q01               1\n",
       "2  10 itksnap_10 CEFC132D-Q01               0\n",
       "3      52 itksnap_2 CEFC13ORG               0\n",
       "4         48 itksnap_2 ANON48               1"
      ]
     },
     "metadata": {},
     "output_type": "display_data"
    },
    {
     "data": {
      "text/html": [
       "<div>\n",
       "<style scoped>\n",
       "    .dataframe tbody tr th:only-of-type {\n",
       "        vertical-align: middle;\n",
       "    }\n",
       "\n",
       "    .dataframe tbody tr th {\n",
       "        vertical-align: top;\n",
       "    }\n",
       "\n",
       "    .dataframe thead th {\n",
       "        text-align: right;\n",
       "    }\n",
       "</style>\n",
       "<table border=\"1\" class=\"dataframe\">\n",
       "  <thead>\n",
       "    <tr style=\"text-align: right;\">\n",
       "      <th></th>\n",
       "      <th>sample_id</th>\n",
       "      <th>MYCN_amplified</th>\n",
       "    </tr>\n",
       "  </thead>\n",
       "  <tbody>\n",
       "    <tr>\n",
       "      <th>47</th>\n",
       "      <td>55 itksnap_2 CEFC132D-Q01</td>\n",
       "      <td>-1</td>\n",
       "    </tr>\n",
       "    <tr>\n",
       "      <th>48</th>\n",
       "      <td>60 itksnap_7 Pediatric 3.0 Axial.38 CE</td>\n",
       "      <td>-1</td>\n",
       "    </tr>\n",
       "    <tr>\n",
       "      <th>49</th>\n",
       "      <td>62 itksnap_2 Fl_Thorax_C  3.0  Br40  2</td>\n",
       "      <td>-1</td>\n",
       "    </tr>\n",
       "    <tr>\n",
       "      <th>50</th>\n",
       "      <td>56 itksnap_3 Pediatric 5.0  CE</td>\n",
       "      <td>-1</td>\n",
       "    </tr>\n",
       "    <tr>\n",
       "      <th>51</th>\n",
       "      <td>58 itksnap_4 POSTCON Pediatric 2.000</td>\n",
       "      <td>-1</td>\n",
       "    </tr>\n",
       "    <tr>\n",
       "      <th>52</th>\n",
       "      <td>57 itksnap_2 CEFC132D-Q01</td>\n",
       "      <td>-1</td>\n",
       "    </tr>\n",
       "    <tr>\n",
       "      <th>53</th>\n",
       "      <td>61 itksnap_2 CEFC13ORG</td>\n",
       "      <td>-1</td>\n",
       "    </tr>\n",
       "    <tr>\n",
       "      <th>54</th>\n",
       "      <td>59 itksnap_2 Body 5.0 IVC CE</td>\n",
       "      <td>-1</td>\n",
       "    </tr>\n",
       "  </tbody>\n",
       "</table>\n",
       "</div>"
      ],
      "text/plain": [
       "                                 sample_id  MYCN_amplified\n",
       "47               55 itksnap_2 CEFC132D-Q01              -1\n",
       "48  60 itksnap_7 Pediatric 3.0 Axial.38 CE              -1\n",
       "49  62 itksnap_2 Fl_Thorax_C  3.0  Br40  2              -1\n",
       "50          56 itksnap_3 Pediatric 5.0  CE              -1\n",
       "51    58 itksnap_4 POSTCON Pediatric 2.000              -1\n",
       "52               57 itksnap_2 CEFC132D-Q01              -1\n",
       "53                  61 itksnap_2 CEFC13ORG              -1\n",
       "54            59 itksnap_2 Body 5.0 IVC CE              -1"
      ]
     },
     "metadata": {},
     "output_type": "display_data"
    },
    {
     "name": "stdout",
     "output_type": "stream",
     "text": [
      "Total number of sample ids: 55\n"
     ]
    }
   ],
   "source": [
    "# Add the missing ids into ods file. \n",
    "# ods file will have all ids. \n",
    "# For ids without MYCN_amplified labels, it will be valued as -1.\n",
    "\n",
    "new_rows = pd.DataFrame({\n",
    "        'sample_id': list(in_files_but_not_in_ods),\n",
    "        'MYCN_amplified': -1\n",
    "    })\n",
    "\n",
    "ground_truth = pd.concat([ground_truth, new_rows], ignore_index=True)\n",
    "display(ground_truth.head())\n",
    "display(ground_truth.loc[ground_truth['MYCN_amplified'] == -1])\n",
    "assert len(ground_truth) == len(all_samples_ids)\n",
    "print(f'Total number of sample ids: {len(ground_truth)}')"
   ]
  },
  {
   "cell_type": "code",
   "execution_count": 32,
   "id": "960ecd9d-9c58-4549-8d1e-cad0c078e20f",
   "metadata": {},
   "outputs": [],
   "source": [
    "ground_truth.to_csv('../dataset/neuroblast_GT_preprocessed.csv', index=False)    "
   ]
  }
 ],
 "metadata": {
  "kernelspec": {
   "display_name": "Python 3 (ipykernel)",
   "language": "python",
   "name": "python3"
  },
  "language_info": {
   "codemirror_mode": {
    "name": "ipython",
    "version": 3
   },
   "file_extension": ".py",
   "mimetype": "text/x-python",
   "name": "python",
   "nbconvert_exporter": "python",
   "pygments_lexer": "ipython3",
   "version": "3.9.18"
  }
 },
 "nbformat": 4,
 "nbformat_minor": 5
}
