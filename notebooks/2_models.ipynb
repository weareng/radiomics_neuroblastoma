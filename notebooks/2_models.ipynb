{
 "cells": [
  {
   "cell_type": "code",
   "execution_count": 1,
   "id": "7da2f36e-5c30-4f1f-84da-00fb8d4abed8",
   "metadata": {},
   "outputs": [],
   "source": [
    "import pandas as pd"
   ]
  },
  {
   "cell_type": "code",
   "execution_count": 2,
   "id": "2e035f00-9b62-439b-8150-aef0af0242e5",
   "metadata": {},
   "outputs": [],
   "source": [
    "df = pd.read_csv('../dataset/samples_post_extraction_and_labelled.csv')"
   ]
  },
  {
   "cell_type": "code",
   "execution_count": 3,
   "id": "63aac204-a20b-462c-b846-875f6185e5ef",
   "metadata": {
    "scrolled": true
   },
   "outputs": [
    {
     "name": "stdout",
     "output_type": "stream",
     "text": [
      "(47, 131)\n",
      "Number of cols to drop: 24\n",
      "['diagnostics_Versions_PyRadiomics', 'diagnostics_Versions_Numpy', 'diagnostics_Versions_SimpleITK', 'diagnostics_Versions_PyWavelet', 'diagnostics_Versions_Python', 'diagnostics_Configuration_Settings', 'diagnostics_Configuration_EnabledImageTypes', 'diagnostics_Image-original_Hash', 'diagnostics_Image-original_Dimensionality', 'diagnostics_Image-original_Spacing', 'diagnostics_Image-original_Size', 'diagnostics_Image-original_Mean', 'diagnostics_Image-original_Minimum', 'diagnostics_Image-original_Maximum', 'diagnostics_Mask-original_Hash', 'diagnostics_Mask-original_Spacing', 'diagnostics_Mask-original_Size', 'diagnostics_Mask-original_BoundingBox', 'diagnostics_Mask-original_VoxelNum', 'diagnostics_Mask-original_VolumeNum', 'diagnostics_Mask-original_CenterOfMassIndex', 'diagnostics_Mask-original_CenterOfMass', 'sample_id', 'mycn_amplified']\n",
      "Number of features for model: 107\n"
     ]
    }
   ],
   "source": [
    "print(df.shape)\n",
    "cols_to_drop = [col for col in df.columns if col.startswith('diagnostics_')]\n",
    "cols_to_drop.extend(['sample_id', 'mycn_amplified'])\n",
    "print(f'Number of cols to drop: {len(cols_to_drop)}')\n",
    "print(cols_to_drop)\n",
    "\n",
    "X = df.drop(columns=cols_to_drop)\n",
    "print(f'Number of features for model: {len(X.columns)}')\n",
    "\n",
    "y = df['mycn_amplified']"
   ]
  },
  {
   "cell_type": "code",
   "execution_count": 4,
   "id": "6787a9cd-a84d-4ea6-a248-1d92acdea426",
   "metadata": {
    "scrolled": true
   },
   "outputs": [
    {
     "name": "stdout",
     "output_type": "stream",
     "text": [
      "original_shape_Elongation float64\n",
      "original_shape_Flatness float64\n",
      "original_shape_LeastAxisLength float64\n",
      "original_shape_MajorAxisLength float64\n",
      "original_shape_Maximum2DDiameterColumn float64\n",
      "original_shape_Maximum2DDiameterRow float64\n",
      "original_shape_Maximum2DDiameterSlice float64\n",
      "original_shape_Maximum3DDiameter float64\n",
      "original_shape_MeshVolume float64\n",
      "original_shape_MinorAxisLength float64\n",
      "original_shape_Sphericity float64\n",
      "original_shape_SurfaceArea float64\n",
      "original_shape_SurfaceVolumeRatio float64\n",
      "original_shape_VoxelVolume float64\n",
      "original_firstorder_10Percentile float64\n",
      "original_firstorder_90Percentile float64\n",
      "original_firstorder_Energy float64\n",
      "original_firstorder_Entropy float64\n",
      "original_firstorder_InterquartileRange float64\n",
      "original_firstorder_Kurtosis float64\n",
      "original_firstorder_Maximum float64\n",
      "original_firstorder_MeanAbsoluteDeviation float64\n",
      "original_firstorder_Mean float64\n",
      "original_firstorder_Median float64\n",
      "original_firstorder_Minimum float64\n",
      "original_firstorder_Range float64\n",
      "original_firstorder_RobustMeanAbsoluteDeviation float64\n",
      "original_firstorder_RootMeanSquared float64\n",
      "original_firstorder_Skewness float64\n",
      "original_firstorder_TotalEnergy float64\n",
      "original_firstorder_Uniformity float64\n",
      "original_firstorder_Variance float64\n",
      "original_glcm_Autocorrelation float64\n",
      "original_glcm_ClusterProminence float64\n",
      "original_glcm_ClusterShade float64\n",
      "original_glcm_ClusterTendency float64\n",
      "original_glcm_Contrast float64\n",
      "original_glcm_Correlation float64\n",
      "original_glcm_DifferenceAverage float64\n",
      "original_glcm_DifferenceEntropy float64\n",
      "original_glcm_DifferenceVariance float64\n",
      "original_glcm_Id float64\n",
      "original_glcm_Idm float64\n",
      "original_glcm_Idmn float64\n",
      "original_glcm_Idn float64\n",
      "original_glcm_Imc1 float64\n",
      "original_glcm_Imc2 float64\n",
      "original_glcm_InverseVariance float64\n",
      "original_glcm_JointAverage float64\n",
      "original_glcm_JointEnergy float64\n",
      "original_glcm_JointEntropy float64\n",
      "original_glcm_MCC float64\n",
      "original_glcm_MaximumProbability float64\n",
      "original_glcm_SumAverage float64\n",
      "original_glcm_SumEntropy float64\n",
      "original_glcm_SumSquares float64\n",
      "original_gldm_DependenceEntropy float64\n",
      "original_gldm_DependenceNonUniformity float64\n",
      "original_gldm_DependenceNonUniformityNormalized float64\n",
      "original_gldm_DependenceVariance float64\n",
      "original_gldm_GrayLevelNonUniformity float64\n",
      "original_gldm_GrayLevelVariance float64\n",
      "original_gldm_HighGrayLevelEmphasis float64\n",
      "original_gldm_LargeDependenceEmphasis float64\n",
      "original_gldm_LargeDependenceHighGrayLevelEmphasis float64\n",
      "original_gldm_LargeDependenceLowGrayLevelEmphasis float64\n",
      "original_gldm_LowGrayLevelEmphasis float64\n",
      "original_gldm_SmallDependenceEmphasis float64\n",
      "original_gldm_SmallDependenceHighGrayLevelEmphasis float64\n",
      "original_gldm_SmallDependenceLowGrayLevelEmphasis float64\n",
      "original_glrlm_GrayLevelNonUniformity float64\n",
      "original_glrlm_GrayLevelNonUniformityNormalized float64\n",
      "original_glrlm_GrayLevelVariance float64\n",
      "original_glrlm_HighGrayLevelRunEmphasis float64\n",
      "original_glrlm_LongRunEmphasis float64\n",
      "original_glrlm_LongRunHighGrayLevelEmphasis float64\n",
      "original_glrlm_LongRunLowGrayLevelEmphasis float64\n",
      "original_glrlm_LowGrayLevelRunEmphasis float64\n",
      "original_glrlm_RunEntropy float64\n",
      "original_glrlm_RunLengthNonUniformity float64\n",
      "original_glrlm_RunLengthNonUniformityNormalized float64\n",
      "original_glrlm_RunPercentage float64\n",
      "original_glrlm_RunVariance float64\n",
      "original_glrlm_ShortRunEmphasis float64\n",
      "original_glrlm_ShortRunHighGrayLevelEmphasis float64\n",
      "original_glrlm_ShortRunLowGrayLevelEmphasis float64\n",
      "original_glszm_GrayLevelNonUniformity float64\n",
      "original_glszm_GrayLevelNonUniformityNormalized float64\n",
      "original_glszm_GrayLevelVariance float64\n",
      "original_glszm_HighGrayLevelZoneEmphasis float64\n",
      "original_glszm_LargeAreaEmphasis float64\n",
      "original_glszm_LargeAreaHighGrayLevelEmphasis float64\n",
      "original_glszm_LargeAreaLowGrayLevelEmphasis float64\n",
      "original_glszm_LowGrayLevelZoneEmphasis float64\n",
      "original_glszm_SizeZoneNonUniformity float64\n",
      "original_glszm_SizeZoneNonUniformityNormalized float64\n",
      "original_glszm_SmallAreaEmphasis float64\n",
      "original_glszm_SmallAreaHighGrayLevelEmphasis float64\n",
      "original_glszm_SmallAreaLowGrayLevelEmphasis float64\n",
      "original_glszm_ZoneEntropy float64\n",
      "original_glszm_ZonePercentage float64\n",
      "original_glszm_ZoneVariance float64\n",
      "original_ngtdm_Busyness float64\n",
      "original_ngtdm_Coarseness float64\n",
      "original_ngtdm_Complexity float64\n",
      "original_ngtdm_Contrast float64\n",
      "original_ngtdm_Strength float64\n"
     ]
    }
   ],
   "source": [
    "for col in X.columns:\n",
    "    print(col, X[col].dtype)"
   ]
  },
  {
   "cell_type": "code",
   "execution_count": 5,
   "id": "96515da5-8ef7-4d50-ab2e-3eb8502d4a9b",
   "metadata": {},
   "outputs": [
    {
     "data": {
      "text/plain": [
       "mycn_amplified\n",
       "0    34\n",
       "1    13\n",
       "Name: count, dtype: int64"
      ]
     },
     "execution_count": 5,
     "metadata": {},
     "output_type": "execute_result"
    }
   ],
   "source": [
    "y.value_counts() # Imbalanced dataset"
   ]
  },
  {
   "cell_type": "code",
   "execution_count": 6,
   "id": "dd2b2e95-0c92-47f6-a352-607ddec39fdf",
   "metadata": {},
   "outputs": [],
   "source": [
    "# Train validation split\n",
    "from sklearn.model_selection import train_test_split\n",
    "\n",
    "X_train, X_val, y_train, y_val = train_test_split(X, y, test_size=0.2, random_state=42)"
   ]
  },
  {
   "cell_type": "code",
   "execution_count": 7,
   "id": "7b8cbfa1-da07-4029-8fd4-aca699396a3f",
   "metadata": {},
   "outputs": [],
   "source": [
    "# # Scaling\n",
    "# from sklearn.preprocessing import StandardScaler\n",
    "\n",
    "# scaler = StandardScaler()\n",
    "# X_train = scaler.fit_transform(X_train)\n",
    "# X_val = scaler.transform(X_val)\n",
    "\n",
    "from sklearn.preprocessing import MinMaxScaler\n",
    "\n",
    "scaler = MinMaxScaler()\n",
    "X_train = scaler.fit_transform(X_train)\n",
    "X_val = scaler.transform(X_val)"
   ]
  },
  {
   "cell_type": "code",
   "execution_count": 8,
   "id": "fe71149b-f245-48fb-9294-c09f12b69880",
   "metadata": {
    "scrolled": true
   },
   "outputs": [],
   "source": [
    "# # Feature selection\n",
    "# from sklearn.feature_selection import SelectKBest, f_classif, chi2\n",
    "\n",
    "# prev_features = len(X_train[0])\n",
    "\n",
    "# selector = SelectKBest(chi2, k=50)\n",
    "# X_train = selector.fit_transform(X_train, y_train)\n",
    "# X_val = selector.transform(X_val)\n",
    "\n",
    "# post_features = len(X_train[0])\n",
    "# print(f'{post_features} were selected from {prev_features}')"
   ]
  },
  {
   "cell_type": "code",
   "execution_count": 9,
   "id": "9bf7d25e-d3f3-4ca6-a50f-a1e44147dc6b",
   "metadata": {},
   "outputs": [],
   "source": [
    "# # Dimensionaltiy reduction (TBC)\n",
    "# from sklearn.decomposition import PCA\n",
    "\n",
    "# prev_features = len(X_train[0])\n",
    "\n",
    "# pca = PCA(n_components=20)\n",
    "# X_train = pca.fit_transform(X_train)\n",
    "# X_val = pca.transform(X_val)\n",
    "\n",
    "# post_features = len(X_train[0])\n",
    "# print(f'{post_features} were selected from {prev_features} for train and {len(X_val[0])} for validation')"
   ]
  },
  {
   "cell_type": "code",
   "execution_count": 10,
   "id": "f594e9fb-8fea-47ae-82ff-69703bfc5ee8",
   "metadata": {},
   "outputs": [
    {
     "name": "stdout",
     "output_type": "stream",
     "text": [
      "X_train changed: (37, 107) -> (54, 107)\n",
      "y_train changed: (37,) -> (54,)\n",
      "Prev y labels were:\n",
      "mycn_amplified\n",
      "0    27\n",
      "1    10\n",
      "Name: count, dtype: int64\n",
      "New y labels are:\n",
      "mycn_amplified\n",
      "0    27\n",
      "1    27\n",
      "Name: count, dtype: int64\n"
     ]
    }
   ],
   "source": [
    "# Resampling\n",
    "from imblearn.over_sampling import SMOTE\n",
    "\n",
    "smote = SMOTE(random_state=42)\n",
    "X_train_res, y_train_res = smote.fit_resample(X_train, y_train)\n",
    "\n",
    "print(f'X_train changed: {X_train.shape} -> {X_train_res.shape}')\n",
    "print(f'y_train changed: {y_train.shape} -> {y_train_res.shape}')\n",
    "print(f'Prev y labels were:\\n{y_train.value_counts()}\\nNew y labels are:\\n{y_train_res.value_counts()}')"
   ]
  },
  {
   "cell_type": "code",
   "execution_count": 11,
   "id": "1419c3cd-d4aa-49ec-9d08-a85416f6e56e",
   "metadata": {},
   "outputs": [
    {
     "name": "stdout",
     "output_type": "stream",
     "text": [
      "\n",
      "=== logistic_regression ===\n",
      "Accuracy: 0.6\n",
      "Classifcation Report:\n",
      "               precision    recall  f1-score   support\n",
      "\n",
      "           0       0.67      0.86      0.75         7\n",
      "           1       0.00      0.00      0.00         3\n",
      "\n",
      "    accuracy                           0.60        10\n",
      "   macro avg       0.33      0.43      0.38        10\n",
      "weighted avg       0.47      0.60      0.53        10\n",
      "\n",
      "Confusion Matrix:\n",
      " [[6 1]\n",
      " [3 0]]\n",
      "\n",
      "=== random_forest ===\n",
      "Accuracy: 0.7\n",
      "Classifcation Report:\n",
      "               precision    recall  f1-score   support\n",
      "\n",
      "           0       0.70      1.00      0.82         7\n",
      "           1       0.00      0.00      0.00         3\n",
      "\n",
      "    accuracy                           0.70        10\n",
      "   macro avg       0.35      0.50      0.41        10\n",
      "weighted avg       0.49      0.70      0.58        10\n",
      "\n",
      "Confusion Matrix:\n",
      " [[7 0]\n",
      " [3 0]]\n",
      "\n",
      "=== support_vector ===\n",
      "Accuracy: 0.7\n",
      "Classifcation Report:\n",
      "               precision    recall  f1-score   support\n",
      "\n",
      "           0       0.70      1.00      0.82         7\n",
      "           1       0.00      0.00      0.00         3\n",
      "\n",
      "    accuracy                           0.70        10\n",
      "   macro avg       0.35      0.50      0.41        10\n",
      "weighted avg       0.49      0.70      0.58        10\n",
      "\n",
      "Confusion Matrix:\n",
      " [[7 0]\n",
      " [3 0]]\n"
     ]
    },
    {
     "name": "stderr",
     "output_type": "stream",
     "text": [
      "/home/ruimi/anaconda3/envs/radiomics_neuroblastoma/lib/python3.9/site-packages/sklearn/metrics/_classification.py:1531: UndefinedMetricWarning: Precision is ill-defined and being set to 0.0 in labels with no predicted samples. Use `zero_division` parameter to control this behavior.\n",
      "  _warn_prf(average, modifier, f\"{metric.capitalize()} is\", len(result))\n",
      "/home/ruimi/anaconda3/envs/radiomics_neuroblastoma/lib/python3.9/site-packages/sklearn/metrics/_classification.py:1531: UndefinedMetricWarning: Precision is ill-defined and being set to 0.0 in labels with no predicted samples. Use `zero_division` parameter to control this behavior.\n",
      "  _warn_prf(average, modifier, f\"{metric.capitalize()} is\", len(result))\n",
      "/home/ruimi/anaconda3/envs/radiomics_neuroblastoma/lib/python3.9/site-packages/sklearn/metrics/_classification.py:1531: UndefinedMetricWarning: Precision is ill-defined and being set to 0.0 in labels with no predicted samples. Use `zero_division` parameter to control this behavior.\n",
      "  _warn_prf(average, modifier, f\"{metric.capitalize()} is\", len(result))\n",
      "/home/ruimi/anaconda3/envs/radiomics_neuroblastoma/lib/python3.9/site-packages/sklearn/metrics/_classification.py:1531: UndefinedMetricWarning: Precision is ill-defined and being set to 0.0 in labels with no predicted samples. Use `zero_division` parameter to control this behavior.\n",
      "  _warn_prf(average, modifier, f\"{metric.capitalize()} is\", len(result))\n",
      "/home/ruimi/anaconda3/envs/radiomics_neuroblastoma/lib/python3.9/site-packages/sklearn/metrics/_classification.py:1531: UndefinedMetricWarning: Precision is ill-defined and being set to 0.0 in labels with no predicted samples. Use `zero_division` parameter to control this behavior.\n",
      "  _warn_prf(average, modifier, f\"{metric.capitalize()} is\", len(result))\n",
      "/home/ruimi/anaconda3/envs/radiomics_neuroblastoma/lib/python3.9/site-packages/sklearn/metrics/_classification.py:1531: UndefinedMetricWarning: Precision is ill-defined and being set to 0.0 in labels with no predicted samples. Use `zero_division` parameter to control this behavior.\n",
      "  _warn_prf(average, modifier, f\"{metric.capitalize()} is\", len(result))\n"
     ]
    }
   ],
   "source": [
    "from sklearn.linear_model import LogisticRegression\n",
    "from sklearn.ensemble import RandomForestClassifier\n",
    "from sklearn.svm import SVC\n",
    "from sklearn.metrics import accuracy_score, classification_report, confusion_matrix\n",
    "\n",
    "lr = LogisticRegression(max_iter=1000, random_state=42)\n",
    "rf = RandomForestClassifier(n_estimators=100, random_state=42)\n",
    "svm = SVC(kernel='rbf', random_state=42)\n",
    "models = {\n",
    "    'logistic_regression': lr, \n",
    "    'random_forest': rf, \n",
    "    'support_vector': svm\n",
    "}\n",
    "\n",
    "def eval_results(y_actual, predictions): \n",
    "    acc = accuracy_score(y_actual, predictions)\n",
    "    clas_report = classification_report(y_actual, predictions) # Note that F1 score can only be used if true positives = true negatives \n",
    "    conf_matrix = confusion_matrix(y_actual, predictions)\n",
    "    print('Accuracy:', acc)\n",
    "    print('Classifcation Report:\\n', clas_report)\n",
    "    print('Confusion Matrix:\\n', conf_matrix)\n",
    "\n",
    "for name, model in models.items():\n",
    "    print(f'\\n=== {name} ===')\n",
    "    model.fit(X_train, y_train)\n",
    "    model_predictions = model.predict(X_val)\n",
    "    eval_results(y_val, model_predictions)"
   ]
  },
  {
   "cell_type": "code",
   "execution_count": null,
   "id": "1961aeba-2049-4fd9-8f9f-413d9c93bd5a",
   "metadata": {},
   "outputs": [],
   "source": []
  }
 ],
 "metadata": {
  "kernelspec": {
   "display_name": "Python 3 (ipykernel)",
   "language": "python",
   "name": "python3"
  },
  "language_info": {
   "codemirror_mode": {
    "name": "ipython",
    "version": 3
   },
   "file_extension": ".py",
   "mimetype": "text/x-python",
   "name": "python",
   "nbconvert_exporter": "python",
   "pygments_lexer": "ipython3",
   "version": "3.9.19"
  }
 },
 "nbformat": 4,
 "nbformat_minor": 5
}
