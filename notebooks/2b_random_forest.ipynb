{
 "cells": [
  {
   "cell_type": "code",
   "execution_count": 1,
   "id": "89d19be6-d07c-4a58-8c0b-0578a48c6765",
   "metadata": {},
   "outputs": [],
   "source": [
    "import pandas as pd \n",
    "from sklearn.ensemble import RandomForestClassifier"
   ]
  },
  {
   "cell_type": "code",
   "execution_count": null,
   "id": "af20939a-4fd5-44db-9f91-a12b829af025",
   "metadata": {},
   "outputs": [],
   "source": [
    "df = pd.read_csv('../dataset/samples_post_extraction_and_labelled.csv')"
   ]
  },
  {
   "cell_type": "code",
   "execution_count": null,
   "id": "630d5f00-7dc8-4910-9221-50c23c9d8212",
   "metadata": {},
   "outputs": [],
   "source": [
    "print(df.shape)\n",
    "cols_to_drop = [col for col in df.columns if col.startswith('diagnostics_')]\n",
    "cols_to_drop.extend(['sample_id', 'mycn_amplified'])\n",
    "print(f'Number of cols to drop: {len(cols_to_drop)}')\n",
    "print(cols_to_drop)\n",
    "\n",
    "X = df.drop(columns=cols_to_drop)\n",
    "print(f'Number of features for model: {len(X.columns)}')\n",
    "\n",
    "y = df['mycn_amplified']"
   ]
  },
  {
   "cell_type": "code",
   "execution_count": null,
   "id": "f9acb609-353e-40bc-8841-2046c374edae",
   "metadata": {},
   "outputs": [],
   "source": [
    "from sklearn.model_selection import train_test_split\n",
    "from sklearn.preprocessing import StandardScaler\n",
    "\n",
    "X_train, X_val, y_train, y_val = train_test_split(X, y, test_size=0.2, random_state=42)\n",
    "\n",
    "scaler = StandardScaler()\n",
    "X_train = scaler.fit_transform(X_train)\n",
    "X_val = scaler.transform(X_val)"
   ]
  },
  {
   "cell_type": "code",
   "execution_count": null,
   "id": "7f4d41b6-d8b0-4b1e-bb77-15fc82ff183d",
   "metadata": {},
   "outputs": [],
   "source": [
    "print(X_train.shape)\n",
    "print(X_val.shape)\n",
    "print(y_train.shape)\n",
    "print(y_val.shape)"
   ]
  },
  {
   "cell_type": "code",
   "execution_count": null,
   "id": "4d84a57c-0cb3-4489-8c33-ed9b297198af",
   "metadata": {},
   "outputs": [],
   "source": [
    "rf = RandomForestClassifer(n_estimators=100, random_state=42)\n",
    "rf.fit(X_train, y_train)\n",
    "rf_predictinos"
   ]
  }
 ],
 "metadata": {
  "kernelspec": {
   "display_name": "Python 3 (ipykernel)",
   "language": "python",
   "name": "python3"
  },
  "language_info": {
   "codemirror_mode": {
    "name": "ipython",
    "version": 3
   },
   "file_extension": ".py",
   "mimetype": "text/x-python",
   "name": "python",
   "nbconvert_exporter": "python",
   "pygments_lexer": "ipython3",
   "version": "3.9.19"
  }
 },
 "nbformat": 4,
 "nbformat_minor": 5
}
