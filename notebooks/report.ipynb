{
 "cells": [
  {
   "cell_type": "markdown",
   "id": "9cf73685-234d-4948-93ce-d2aaccb6ee13",
   "metadata": {},
   "source": [
    "### Methods\n",
    "131 radiomic features were extracted with pyradiomics.\n",
    "Ideally should be feature selected and feature dimensionality reduced, but I found that it results in poorer results.\n",
    "\n",
    "### Results\n",
    "Out of logistic regression, random forest and support vector machines, logistic regression performed the best.\n",
    "\n",
    "### Discussion\n",
    "- My feature selection does not seem to be conferring any additional advantage to my accuracy. (Not sure if my feature selection was done correctly.)\n",
    "- I would want to continue to test try various methods of feature selection (e.g., filter, wrapper, embedded methods) and dimensionality reduction, based on principles from \"Radiomics and Its Feature Selection: A Review\" by Wenchao Zhang. \n",
    "- Would dimensionality reduciton in the context of radiomics negatively affect the interpretability of my results?\n",
    "- I would want to use GridSearchCV to tune hyperparameters. \n",
    "- I would want to use cross validation for train test split. This will require sklearn.pipeline.Pipeline() to fit and transform the training data."
   ]
  }
 ],
 "metadata": {
  "kernelspec": {
   "display_name": "Python 3 (ipykernel)",
   "language": "python",
   "name": "python3"
  },
  "language_info": {
   "codemirror_mode": {
    "name": "ipython",
    "version": 3
   },
   "file_extension": ".py",
   "mimetype": "text/x-python",
   "name": "python",
   "nbconvert_exporter": "python",
   "pygments_lexer": "ipython3",
   "version": "3.9.18"
  }
 },
 "nbformat": 4,
 "nbformat_minor": 5
}
