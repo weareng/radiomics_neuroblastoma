{
 "cells": [
  {
   "cell_type": "markdown",
   "id": "9cf73685-234d-4948-93ce-d2aaccb6ee13",
   "metadata": {},
   "source": [
    "131 radiomic features were extracted with pyradiomics.\n",
    "Ideally should be feature selected and feature dimensionality reduced, but I found that it results in poorer results.\n",
    "Out of logistic regression, random forest and support vector machines, logistic regression performed the best.\n",
    "\n",
    "Moving forward: \n",
    "I would want to continue to test try various methods of feature selection (e.g., filter, wrapper, embedded methods) and dimensionality reduction, based on principles from \"Radiomics and Its Feature Selection: A Review\" by Wenchao Zhang. \n",
    "I would want to use GridSearchCV to tune hyperparameters. "
   ]
  }
 ],
 "metadata": {
  "kernelspec": {
   "display_name": "Python 3 (ipykernel)",
   "language": "python",
   "name": "python3"
  },
  "language_info": {
   "codemirror_mode": {
    "name": "ipython",
    "version": 3
   },
   "file_extension": ".py",
   "mimetype": "text/x-python",
   "name": "python",
   "nbconvert_exporter": "python",
   "pygments_lexer": "ipython3",
   "version": "3.9.19"
  }
 },
 "nbformat": 4,
 "nbformat_minor": 5
}
